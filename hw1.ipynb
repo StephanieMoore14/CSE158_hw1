{
 "cells": [
  {
   "cell_type": "code",
   "execution_count": 79,
   "metadata": {},
   "outputs": [],
   "source": [
    "import numpy          # linear algebra\n",
    "import urllib         # load data from the web\n",
    "import scipy.optimize # optimization routines\n",
    "import random         # random number generation\n",
    "import matplotlib\n",
    "import pandas as pd\n",
    "\n",
    "# import warnings filter\n",
    "from warnings import simplefilter\n",
    "# ignore all future warnings\n",
    "simplefilter(action='ignore', category=FutureWarning)"
   ]
  },
  {
   "cell_type": "markdown",
   "metadata": {},
   "source": [
    "# Instructions\n",
    "You will need the following files:\n",
    "Amazon Gift Card data : https://s3.amazonaws.com/amazon-reviews-pds/tsv/amazon_reviews_us_Gift_Card_v1_00.tsv.gz \n",
    "The above is a TSV formatted dataset, including reviews from one of the smaller Amazon categories. \n",
    "Data can be read using the Python csv.reader library."
   ]
  },
  {
   "cell_type": "code",
   "execution_count": 63,
   "metadata": {},
   "outputs": [],
   "source": [
    "# load the data\n",
    "import gzip\n",
    "path = 'amazon_reviews_us_Gift_Card_v1_00.tsv.gz'\n",
    "f = gzip.open(path, 'rt', encoding=\"utf8\")"
   ]
  },
  {
   "cell_type": "code",
   "execution_count": 64,
   "metadata": {},
   "outputs": [],
   "source": [
    "dataset = []\n",
    "# Read the header:\n",
    "header = f.readline().strip().split('\\t')\n",
    "for line in f:\n",
    "    # Separate by tabs\n",
    "    line = line.split('\\t')\n",
    "    # Convert to key-value pairs\n",
    "    d = dict(zip(header, line))\n",
    "    # Convert strings to integers for some fields:\n",
    "    d['star_rating'] = int(d['star_rating'])\n",
    "    d['helpful_votes'] = int(d['helpful_votes'])\n",
    "    d['total_votes'] = int(d['total_votes'])\n",
    "    dataset.append(d)"
   ]
  },
  {
   "cell_type": "markdown",
   "metadata": {},
   "source": [
    "### Regression - Week 1\n",
    "First, let’s see how ratings can be predicted as a function of \n",
    "(a) whether a review is a ‘verified purchase’, and\n",
    "(b) the length of the review (in characters)"
   ]
  },
  {
   "cell_type": "markdown",
   "metadata": {},
   "source": [
    "1. What is the distribution of ratings in the dataset? That is, how many 1-star, 2-star, 3-star (etc.) reviews\n",
    "are there? You may write out the values or include a simple plot (1 mark)."
   ]
  },
  {
   "cell_type": "code",
   "execution_count": 65,
   "metadata": {},
   "outputs": [],
   "source": [
    "df = pd.DataFrame(dataset)\n",
    "df['verified_purchase'] = df['verified_purchase'].apply(lambda x: 1 if x == 'Y' else 0) # change to int"
   ]
  },
  {
   "cell_type": "code",
   "execution_count": 66,
   "metadata": {},
   "outputs": [
    {
     "name": "stdout",
     "output_type": "stream",
     "text": [
      "1      4793\n",
      "2      1569\n",
      "3      3156\n",
      "4      9859\n",
      "5    129709\n",
      "Name: star_rating, dtype: int64\n",
      "AxesSubplot(0.125,0.125;0.775x0.755)\n"
     ]
    },
    {
     "data": {
      "image/png": "[encoded data removed]",
      "text/plain": [
       "<Figure size 432x288 with 1 Axes>"
      ]
     },
     "metadata": {
      "needs_background": "light"
     },
     "output_type": "display_data"
    }
   ],
   "source": [
    "dist = df['star_rating'].value_counts().sort_index()\n",
    "print(dist);\n",
    "print(pd.DataFrame(dist).plot.bar(rot=0));"
   ]
  },
  {
   "cell_type": "markdown",
   "metadata": {},
   "source": [
    "2. (CSE158 only) Repeat the above question, but generate the distribution (a) only for reviews that are\n",
    "‘verified,’ and (b) only for reviews that are not verified. Write out the values or generate a plot to show\n",
    "the difference between these distributions (1 mark)."
   ]
  },
  {
   "cell_type": "code",
   "execution_count": 67,
   "metadata": {},
   "outputs": [
    {
     "data": {
      "text/plain": [
       "Index(['customer_id', 'helpful_votes', 'marketplace', 'product_category',\n",
       "       'product_id', 'product_parent', 'product_title', 'review_body',\n",
       "       'review_date', 'review_headline', 'review_id', 'star_rating',\n",
       "       'total_votes', 'verified_purchase', 'vine'],\n",
       "      dtype='object')"
      ]
     },
     "execution_count": 67,
     "metadata": {},
     "output_type": "execute_result"
    }
   ],
   "source": [
    "df.columns"
   ]
  },
  {
   "cell_type": "code",
   "execution_count": 68,
   "metadata": {},
   "outputs": [
    {
     "data": {
      "text/html": [
       "<div>\n",
       "<style scoped>\n",
       "    .dataframe tbody tr th:only-of-type {\n",
       "        vertical-align: middle;\n",
       "    }\n",
       "\n",
       "    .dataframe tbody tr th {\n",
       "        vertical-align: top;\n",
       "    }\n",
       "\n",
       "    .dataframe thead th {\n",
       "        text-align: right;\n",
       "    }\n",
       "</style>\n",
       "<table border=\"1\" class=\"dataframe\">\n",
       "  <thead>\n",
       "    <tr style=\"text-align: right;\">\n",
       "      <th></th>\n",
       "      <th>customer_id</th>\n",
       "      <th>helpful_votes</th>\n",
       "      <th>marketplace</th>\n",
       "      <th>product_category</th>\n",
       "      <th>product_id</th>\n",
       "      <th>product_parent</th>\n",
       "      <th>product_title</th>\n",
       "      <th>review_body</th>\n",
       "      <th>review_date</th>\n",
       "      <th>review_headline</th>\n",
       "      <th>review_id</th>\n",
       "      <th>star_rating</th>\n",
       "      <th>total_votes</th>\n",
       "      <th>verified_purchase</th>\n",
       "      <th>vine</th>\n",
       "    </tr>\n",
       "  </thead>\n",
       "  <tbody>\n",
       "    <tr>\n",
       "      <th>0</th>\n",
       "      <td>24371595</td>\n",
       "      <td>0</td>\n",
       "      <td>US</td>\n",
       "      <td>Gift Card</td>\n",
       "      <td>B004LLIL5A</td>\n",
       "      <td>346014806</td>\n",
       "      <td>Amazon eGift Card - Celebrate</td>\n",
       "      <td>Great birthday gift for a young adult.</td>\n",
       "      <td>2015-08-31\\n</td>\n",
       "      <td>Five Stars</td>\n",
       "      <td>R27ZP1F1CD0C3Y</td>\n",
       "      <td>5</td>\n",
       "      <td>0</td>\n",
       "      <td>1</td>\n",
       "      <td>N</td>\n",
       "    </tr>\n",
       "    <tr>\n",
       "      <th>1</th>\n",
       "      <td>42489718</td>\n",
       "      <td>0</td>\n",
       "      <td>US</td>\n",
       "      <td>Gift Card</td>\n",
       "      <td>B004LLIKVU</td>\n",
       "      <td>473048287</td>\n",
       "      <td>Amazon.com eGift Cards</td>\n",
       "      <td>It's an Amazon gift card and with over 9823983...</td>\n",
       "      <td>2015-08-31\\n</td>\n",
       "      <td>Gift card for the greatest selection of items ...</td>\n",
       "      <td>RJ7RSBCHUDNNE</td>\n",
       "      <td>5</td>\n",
       "      <td>0</td>\n",
       "      <td>1</td>\n",
       "      <td>N</td>\n",
       "    </tr>\n",
       "  </tbody>\n",
       "</table>\n",
       "</div>"
      ],
      "text/plain": [
       "  customer_id  helpful_votes marketplace product_category  product_id  \\\n",
       "0    24371595              0          US        Gift Card  B004LLIL5A   \n",
       "1    42489718              0          US        Gift Card  B004LLIKVU   \n",
       "\n",
       "  product_parent                  product_title  \\\n",
       "0      346014806  Amazon eGift Card - Celebrate   \n",
       "1      473048287         Amazon.com eGift Cards   \n",
       "\n",
       "                                         review_body   review_date  \\\n",
       "0             Great birthday gift for a young adult.  2015-08-31\\n   \n",
       "1  It's an Amazon gift card and with over 9823983...  2015-08-31\\n   \n",
       "\n",
       "                                     review_headline       review_id  \\\n",
       "0                                         Five Stars  R27ZP1F1CD0C3Y   \n",
       "1  Gift card for the greatest selection of items ...   RJ7RSBCHUDNNE   \n",
       "\n",
       "   star_rating  total_votes  verified_purchase vine  \n",
       "0            5            0                  1    N  \n",
       "1            5            0                  1    N  "
      ]
     },
     "execution_count": 68,
     "metadata": {},
     "output_type": "execute_result"
    }
   ],
   "source": [
    "df.head(2)"
   ]
  },
  {
   "cell_type": "code",
   "execution_count": 70,
   "metadata": {},
   "outputs": [
    {
     "name": "stdout",
     "output_type": "stream",
     "text": [
      "1      4000\n",
      "2      1344\n",
      "3      2784\n",
      "4      8940\n",
      "5    118974\n",
      "Name: star_rating, dtype: int64\n",
      "AxesSubplot(0.125,0.125;0.775x0.755)\n"
     ]
    },
    {
     "data": {
      "image/png": "[encoded data removed]",
      "text/plain": [
       "<Figure size 432x288 with 1 Axes>"
      ]
     },
     "metadata": {
      "needs_background": "light"
     },
     "output_type": "display_data"
    }
   ],
   "source": [
    "dist_verified = df[df['verified_purchase'] == 1]['star_rating'].value_counts().sort_index()\n",
    "print(dist_verified);\n",
    "print(pd.DataFrame(dist_verified).plot.bar(rot=0));"
   ]
  },
  {
   "cell_type": "markdown",
   "metadata": {},
   "source": [
    "3. Train a simple predictor to predict the star rating using two features:\n",
    "<img src=\"fig1.png\" style=\"height:50px\"> \n",
    "\n",
    "Report the values of θ0, θ1, and θ2. Briefly describe your interpretation of these values, i.e., what do θ0,\n",
    "θ1, and θ2 represent? Explain these in terms of the features and labels, e.g. if the coefficient of ‘review\n",
    "length’ is negative, what would that say about positive versus negative reviews (1 mark)?"
   ]
  },
  {
   "cell_type": "markdown",
   "metadata": {},
   "source": [
    "* Our feature matrix, X, will be contain the 2 columns of the df with values 'review is verified' and 'review length'\n",
    "    * review length needs to be added to the df\n",
    "* θ0 is the y- intercept of the regression line and θ1 & θ2 are slopes coefficients for 'review is verified' and 'review length' respectively. "
   ]
  },
  {
   "cell_type": "code",
   "execution_count": 71,
   "metadata": {},
   "outputs": [],
   "source": [
    "df['review_length'] = [len(x) for x in df['review_body']] # review header is included in the length calculation"
   ]
  },
  {
   "cell_type": "code",
   "execution_count": 78,
   "metadata": {},
   "outputs": [],
   "source": [
    "X = df[['verified_purchase', 'review_length']]\n",
    "y = df['star_rating']"
   ]
  },
  {
   "cell_type": "code",
   "execution_count": 84,
   "metadata": {},
   "outputs": [],
   "source": [
    "from sklearn.linear_model import LinearRegression\n",
    "model = LinearRegression()\n",
    "model.fit(X, y);"
   ]
  },
  {
   "cell_type": "code",
   "execution_count": 85,
   "metadata": {},
   "outputs": [
    {
     "data": {
      "text/plain": [
       "array([ 0.05041483, -0.0012466 ])"
      ]
     },
     "execution_count": 85,
     "metadata": {},
     "output_type": "execute_result"
    }
   ],
   "source": [
    "# regression coefficients\n",
    "model.coef_"
   ]
  },
  {
   "cell_type": "markdown",
   "metadata": {},
   "source": [
    "Our linear regression model calcualted θ1 = 0.05041483 (representing the coefficient for 'review is verified') and our θ2 = -0.0012466 (representing the coefficient for 'review length'). This tells us  "
   ]
  },
  {
   "cell_type": "code",
   "execution_count": 86,
   "metadata": {},
   "outputs": [
    {
     "data": {
      "text/plain": [
       "4.844618169673417"
      ]
     },
     "execution_count": 86,
     "metadata": {},
     "output_type": "execute_result"
    }
   ],
   "source": [
    "model.intercept_"
   ]
  },
  {
   "cell_type": "code",
   "execution_count": null,
   "metadata": {},
   "outputs": [],
   "source": []
  },
  {
   "cell_type": "markdown",
   "metadata": {},
   "source": [
    "4. Train another predictor that only uses one feature:\n",
    "    <img src=\"fig2.png\" style=\"height:50px\"> \n",
    "\n",
    "Report the values of θ0 and θ1. Note that coefficient you found here might be quite different (i.e., much\n",
    "larger or smaller) than the one from Question 3, even though these coefficients refer to the same feature.\n",
    "Provide an explanation as to why these coefficients might vary so significantly (1 mark).1"
   ]
  },
  {
   "cell_type": "code",
   "execution_count": null,
   "metadata": {},
   "outputs": [],
   "source": []
  },
  {
   "cell_type": "code",
   "execution_count": null,
   "metadata": {},
   "outputs": [],
   "source": []
  },
  {
   "cell_type": "code",
   "execution_count": null,
   "metadata": {},
   "outputs": [],
   "source": []
  },
  {
   "cell_type": "markdown",
   "metadata": {},
   "source": [
    "5. Split the data into two fractions – the first 90% for training, and the remaining 10% testing (based on\n",
    "the order they appear in the file). Train the same model as in Question 4 on the training set only. What\n",
    "is the model’s MSE on the training and on the test set (1 mark)?"
   ]
  },
  {
   "cell_type": "code",
   "execution_count": null,
   "metadata": {},
   "outputs": [],
   "source": []
  },
  {
   "cell_type": "markdown",
   "metadata": {},
   "source": [
    "6. (CSE158 only) Using the test set from Question 5, report the Mean Absolute Error (MAE) and R2\n",
    "coefficient for your predictor (on the test set) (1 mark)."
   ]
  },
  {
   "cell_type": "code",
   "execution_count": null,
   "metadata": {},
   "outputs": [],
   "source": []
  },
  {
   "cell_type": "code",
   "execution_count": null,
   "metadata": {},
   "outputs": [],
   "source": []
  },
  {
   "cell_type": "markdown",
   "metadata": {},
   "source": [
    "### Classification - Week 2\n",
    "\n",
    "In this question we’ll alter the prediction from our regression task, so that we are now classifying whether a\n",
    "review is verified. Continue using the 90%/10% training and test sets you constructed previously, i.e., train on\n",
    "the training set and report the error/accuracy on the testing set."
   ]
  },
  {
   "cell_type": "code",
   "execution_count": null,
   "metadata": {},
   "outputs": [],
   "source": []
  },
  {
   "cell_type": "markdown",
   "metadata": {},
   "source": [
    "8. First, let’s train a predictor that estimates whether a review is verified using the rating and the length:\n",
    "        <img src=\"fig3.png\" style=\"height:50px\"> \n",
    "\n",
    "Train a logistic regressor to make the above prediction (you may use a logistic regression library with de-\n",
    "fault parameters, e.g. linear model.LogisticRegression() from sklearn). Report the classification accuracy of this predictor. Report also the proportion of labels that are positive (i.e., the proportion of reviews\n",
    "that are verified) and the proportion of predictions that are positive (1 mark)."
   ]
  },
  {
   "cell_type": "code",
   "execution_count": null,
   "metadata": {},
   "outputs": [],
   "source": []
  },
  {
   "cell_type": "markdown",
   "metadata": {},
   "source": [
    "9. Considering same prediction problem as above, can you come up with a more accurate predictor (e.g. using\n",
    "features from the text, timestamp, etc.)? Write down the feature vector you design, and report its\n",
    "train/test accuracy (1 mark)."
   ]
  },
  {
   "cell_type": "code",
   "execution_count": null,
   "metadata": {},
   "outputs": [],
   "source": []
  },
  {
   "cell_type": "code",
   "execution_count": null,
   "metadata": {},
   "outputs": [],
   "source": []
  },
  {
   "cell_type": "code",
   "execution_count": null,
   "metadata": {},
   "outputs": [],
   "source": []
  }
 ],
 "metadata": {
  "kernelspec": {
   "display_name": "Python 3",
   "language": "python",
   "name": "python3"
  },
  "language_info": {
   "codemirror_mode": {
    "name": "ipython",
    "version": 3
   },
   "file_extension": ".py",
   "mimetype": "text/x-python",
   "name": "python",
   "nbconvert_exporter": "python",
   "pygments_lexer": "ipython3",
   "version": "3.7.3"
  }
 },
 "nbformat": 4,
 "nbformat_minor": 2
}

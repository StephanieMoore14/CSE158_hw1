{
 "cells": [
  {
   "cell_type": "code",
   "execution_count": 345,
   "metadata": {},
   "outputs": [],
   "source": [
    "import numpy as np    # linear algebra\n",
    "import urllib         # load data from the web\n",
    "import scipy.optimize # optimization routines\n",
    "import random         # random number generation\n",
    "import matplotlib\n",
    "import pandas as pd\n",
    "\n",
    "# import warnings filter\n",
    "from warnings import simplefilter\n",
    "# ignore all future warnings\n",
    "simplefilter(action='ignore', category=FutureWarning)"
   ]
  },
  {
   "cell_type": "markdown",
   "metadata": {},
   "source": [
    "# Instructions\n",
    "You will need the following files:\n",
    "Amazon Gift Card data : https://s3.amazonaws.com/amazon-reviews-pds/tsv/amazon_reviews_us_Gift_Card_v1_00.tsv.gz \n",
    "The above is a TSV formatted dataset, including reviews from one of the smaller Amazon categories. \n",
    "Data can be read using the Python csv.reader library."
   ]
  },
  {
   "cell_type": "code",
   "execution_count": 346,
   "metadata": {},
   "outputs": [],
   "source": [
    "# load the data\n",
    "import gzip\n",
    "path = 'amazon_reviews_us_Gift_Card_v1_00.tsv.gz'\n",
    "f = gzip.open(path, 'rt', encoding=\"utf8\")"
   ]
  },
  {
   "cell_type": "code",
   "execution_count": 347,
   "metadata": {},
   "outputs": [],
   "source": [
    "dataset = []\n",
    "# Read the header:\n",
    "header = f.readline().strip().split('\\t')\n",
    "for line in f:\n",
    "    # Separate by tabs\n",
    "    line = line.split('\\t')\n",
    "    # Convert to key-value pairs\n",
    "    d = dict(zip(header, line))\n",
    "    # Convert strings to integers for some fields:\n",
    "    d['star_rating'] = int(d['star_rating'])\n",
    "    d['helpful_votes'] = int(d['helpful_votes'])\n",
    "    d['total_votes'] = int(d['total_votes'])\n",
    "    dataset.append(d)"
   ]
  },
  {
   "cell_type": "markdown",
   "metadata": {},
   "source": [
    "### Regression - Week 1\n",
    "First, let’s see how ratings can be predicted as a function of \n",
    "(a) whether a review is a ‘verified purchase’, and\n",
    "(b) the length of the review (in characters)"
   ]
  },
  {
   "cell_type": "markdown",
   "metadata": {},
   "source": [
    "#### 1. What is the distribution of ratings in the dataset? That is, how many 1-star, 2-star, 3-star (etc.) reviews\n",
    "are there? You may write out the values or include a simple plot (1 mark)."
   ]
  },
  {
   "cell_type": "code",
   "execution_count": 348,
   "metadata": {},
   "outputs": [],
   "source": [
    "df = pd.DataFrame(dataset)\n",
    "df['verified_purchase'] = df['verified_purchase'].apply(lambda x: 1 if x == 'Y' else 0) # change to int"
   ]
  },
  {
   "cell_type": "code",
   "execution_count": 349,
   "metadata": {},
   "outputs": [
    {
     "name": "stdout",
     "output_type": "stream",
     "text": [
      "1      4793\n",
      "2      1569\n",
      "3      3156\n",
      "4      9859\n",
      "5    129709\n",
      "Name: star_rating, dtype: int64\n",
      "AxesSubplot(0.125,0.125;0.775x0.755)\n"
     ]
    },
    {
     "data": {
      "image/png": "[encoded data removed]",
      "text/plain": [
       "<Figure size 432x288 with 1 Axes>"
      ]
     },
     "metadata": {
      "needs_background": "light"
     },
     "output_type": "display_data"
    }
   ],
   "source": [
    "dist = df['star_rating'].value_counts().sort_index()\n",
    "print(dist);\n",
    "print(pd.DataFrame(dist).plot.bar(rot=0));"
   ]
  },
  {
   "cell_type": "markdown",
   "metadata": {},
   "source": [
    "#### 2. (CSE158 only) Repeat the above question, but generate the distribution (a) only for reviews that are\n",
    "‘verified,’ and (b) only for reviews that are not verified. Write out the values or generate a plot to show\n",
    "the difference between these distributions (1 mark)."
   ]
  },
  {
   "cell_type": "code",
   "execution_count": 350,
   "metadata": {},
   "outputs": [
    {
     "data": {
      "text/plain": [
       "Index(['customer_id', 'helpful_votes', 'marketplace', 'product_category',\n",
       "       'product_id', 'product_parent', 'product_title', 'review_body',\n",
       "       'review_date', 'review_headline', 'review_id', 'star_rating',\n",
       "       'total_votes', 'verified_purchase', 'vine'],\n",
       "      dtype='object')"
      ]
     },
     "execution_count": 350,
     "metadata": {},
     "output_type": "execute_result"
    }
   ],
   "source": [
    "df.columns"
   ]
  },
  {
   "cell_type": "code",
   "execution_count": 351,
   "metadata": {},
   "outputs": [
    {
     "name": "stdout",
     "output_type": "stream",
     "text": [
      "1      4000\n",
      "2      1344\n",
      "3      2784\n",
      "4      8940\n",
      "5    118974\n",
      "Name: star_rating, dtype: int64\n",
      "AxesSubplot(0.125,0.125;0.775x0.755)\n"
     ]
    },
    {
     "data": {
      "image/png": "[encoded data removed]",
      "text/plain": [
       "<Figure size 432x288 with 1 Axes>"
      ]
     },
     "metadata": {
      "needs_background": "light"
     },
     "output_type": "display_data"
    }
   ],
   "source": [
    "dist_verified = df[df['verified_purchase'] == 1]['star_rating'].value_counts().sort_index()\n",
    "print(dist_verified);\n",
    "print(pd.DataFrame(dist_verified).plot.bar(rot=0));"
   ]
  },
  {
   "cell_type": "code",
   "execution_count": 398,
   "metadata": {},
   "outputs": [
    {
     "name": "stdout",
     "output_type": "stream",
     "text": [
      "1      793\n",
      "2      225\n",
      "3      372\n",
      "4      919\n",
      "5    10735\n",
      "Name: star_rating, dtype: int64\n",
      "AxesSubplot(0.125,0.125;0.775x0.755)\n"
     ]
    },
    {
     "data": {
      "image/png": "[encoded data removed]",
      "text/plain": [
       "<Figure size 432x288 with 1 Axes>"
      ]
     },
     "metadata": {
      "needs_background": "light"
     },
     "output_type": "display_data"
    }
   ],
   "source": [
    "dist_verified = df[df['verified_purchase'] == 0]['star_rating'].value_counts().sort_index()\n",
    "print(dist_verified);\n",
    "print(pd.DataFrame(dist_verified).plot.bar(rot=0));"
   ]
  },
  {
   "cell_type": "markdown",
   "metadata": {},
   "source": [
    "#### 3. Train a simple predictor to predict the star rating using two features:\n",
    "<img src=\"fig1.png\" style=\"height:50px\"> \n",
    "\n",
    "Report the values of θ0, θ1, and θ2. Briefly describe your interpretation of these values, i.e., what do θ0,\n",
    "θ1, and θ2 represent? Explain these in terms of the features and labels, e.g. if the coefficient of ‘review\n",
    "length’ is negative, what would that say about positive versus negative reviews (1 mark)?"
   ]
  },
  {
   "cell_type": "markdown",
   "metadata": {},
   "source": [
    "* Our feature matrix, X, will be contain the 2 columns of the df with values 'review is verified' and 'review length'\n",
    "    * review length needs to be added to the df\n",
    "* θ0 is the y- intercept of the regression line and θ1 & θ2 are slopes coefficients for 'review is verified' and 'review length' respectively. "
   ]
  },
  {
   "cell_type": "code",
   "execution_count": 352,
   "metadata": {},
   "outputs": [],
   "source": [
    "df['review_length'] = [len(x) for x in df['review_body']] \n",
    "# review header is included in the length calculation"
   ]
  },
  {
   "cell_type": "code",
   "execution_count": 353,
   "metadata": {},
   "outputs": [],
   "source": [
    "X_1 = df[['verified_purchase', 'review_length']]\n",
    "y_1 = df['star_rating']"
   ]
  },
  {
   "cell_type": "code",
   "execution_count": 354,
   "metadata": {},
   "outputs": [],
   "source": [
    "from sklearn.linear_model import LinearRegression\n",
    "model_1 = LinearRegression()\n",
    "model_1.fit(X_1, y_1);"
   ]
  },
  {
   "cell_type": "code",
   "execution_count": 355,
   "metadata": {},
   "outputs": [
    {
     "data": {
      "text/plain": [
       "array([ 0.05041483, -0.0012466 ])"
      ]
     },
     "execution_count": 355,
     "metadata": {},
     "output_type": "execute_result"
    }
   ],
   "source": [
    "# regression coefficients\n",
    "model_1.coef_"
   ]
  },
  {
   "cell_type": "markdown",
   "metadata": {},
   "source": [
    "Our linear regression model calcualted θ1 = 0.05041483 (representing the coefficient for 'review is verified') and our θ2 = -0.0012466 (representing the coefficient for 'review length'). This tells us for every additional increase in star rating, the θ1 ('review is verified') increases by 0.05041483 and the θ2 ('review length') decreases by -0.0012466 ."
   ]
  },
  {
   "cell_type": "code",
   "execution_count": 356,
   "metadata": {},
   "outputs": [
    {
     "data": {
      "text/plain": [
       "4.844618169673417"
      ]
     },
     "execution_count": 356,
     "metadata": {},
     "output_type": "execute_result"
    }
   ],
   "source": [
    "model_1.intercept_"
   ]
  },
  {
   "cell_type": "markdown",
   "metadata": {},
   "source": [
    "Our linear regression model calcualted θ0 = 4.844618169673417 (representing the intercept of our regression line. This tells us that if the slope, or θ1 and θ2 are 0, the star rating will still be 4.844618169673417. "
   ]
  },
  {
   "cell_type": "markdown",
   "metadata": {},
   "source": [
    "#### 4. Train another predictor that only uses one feature:\n",
    "    <img src=\"fig2.png\" style=\"height:50px\"> \n",
    "\n",
    "Report the values of θ0 and θ1. Note that coefficient you found here might be quite different (i.e., much\n",
    "larger or smaller) than the one from Question 3, even though these coefficients refer to the same feature.\n",
    "Provide an explanation as to why these coefficients might vary so significantly (1 mark)."
   ]
  },
  {
   "cell_type": "code",
   "execution_count": 357,
   "metadata": {},
   "outputs": [],
   "source": [
    "X_2 = df[['verified_purchase']]\n",
    "y_2 = df['star_rating']"
   ]
  },
  {
   "cell_type": "code",
   "execution_count": 358,
   "metadata": {},
   "outputs": [],
   "source": [
    "model_2 = LinearRegression()\n",
    "model_2.fit(X_2, y_2);"
   ]
  },
  {
   "cell_type": "code",
   "execution_count": 359,
   "metadata": {},
   "outputs": [
    {
     "data": {
      "text/plain": [
       "array([0.16852426])"
      ]
     },
     "execution_count": 359,
     "metadata": {},
     "output_type": "execute_result"
    }
   ],
   "source": [
    "model_2.coef_"
   ]
  },
  {
   "cell_type": "markdown",
   "metadata": {},
   "source": [
    "Our linear regression model calcualted θ1 = 0.16852426 (representing the coefficient for 'review is verified'). This tells us for every additional increase in star rating, the θ1 ('review is verified') increases by 0.16852426. Although this coefficient is the same as the one from question 3, its value is quite different. \n",
    "\n",
    "Linear Regression relys on a Conditionally Indepnedence Assumption:\n",
    "if you know y, then knowing x1 provides no additional information about x2\n",
    "\n",
    "The problem with usign linear regression (Naive Bayes) for a classification is: we can only decompose the model into the contribution of individual features if the features are independent or conditionally independent! \n",
    "\n",
    "This is because in simple regression (non multipul regression) the beta coefficient is propotional to the correlation between y and x. However, in multiple regression, the betas are proportional to the partial correlation. This partial correlation is the correlation between y and the considered x (controlled for the other regressors).\n",
    " \n",
    "In other words, we have to make sure the columns are independent or conditionally independent if we want to use regression, and this get complicated the more features we use. \n",
    "\n",
    "This means we cant just do 'counting' and stick the classifications together into one big feature vector, then we would be 'double counting' the features' affect. How do we fix this? --> Logistic Regression."
   ]
  },
  {
   "cell_type": "code",
   "execution_count": 360,
   "metadata": {},
   "outputs": [
    {
     "data": {
      "text/plain": [
       "4.577583563324113"
      ]
     },
     "execution_count": 360,
     "metadata": {},
     "output_type": "execute_result"
    }
   ],
   "source": [
    "model_2.intercept_"
   ]
  },
  {
   "cell_type": "markdown",
   "metadata": {},
   "source": [
    "#### 5. Split the data into two fractions – the first 90% for training, and the remaining 10% testing (based on\n",
    "the order they appear in the file). Train the same model as in Question 4 on the training set only. What\n",
    "is the model’s MSE on the training and on the test set (1 mark)?"
   ]
  },
  {
   "cell_type": "code",
   "execution_count": 361,
   "metadata": {},
   "outputs": [],
   "source": [
    "X_3 = df[['verified_purchase']]\n",
    "y_3 = df['star_rating'].values\n",
    "\n",
    "N = len(X_3)\n",
    "n_percent = int(np.around(N*.9))\n",
    "X_train = X_3[:n_percent]\n",
    "X_test = X_3[n_percent:]\n",
    "y_train = y_3[:n_percent]\n",
    "y_test = y_3[n_percent:]"
   ]
  },
  {
   "cell_type": "code",
   "execution_count": 362,
   "metadata": {},
   "outputs": [],
   "source": [
    "model_3 = LinearRegression()\n",
    "model_3.fit(X_train, y_train)\n",
    "\n",
    "predictionsTrain = model_3.predict(X_train)\n",
    "predictionsTest = model_3.predict(X_test)"
   ]
  },
  {
   "cell_type": "code",
   "execution_count": 363,
   "metadata": {},
   "outputs": [],
   "source": [
    "def mse(Y_pred, Y_true):\n",
    "    return np.square(np.subtract(Y_true,Y_pred)).mean() "
   ]
  },
  {
   "cell_type": "code",
   "execution_count": 364,
   "metadata": {},
   "outputs": [
    {
     "data": {
      "text/plain": [
       "0.6557415620280949"
      ]
     },
     "execution_count": 364,
     "metadata": {},
     "output_type": "execute_result"
    }
   ],
   "source": [
    "# MSE for the training set:\n",
    "mse(predictionsTrain, y_train)"
   ]
  },
  {
   "cell_type": "code",
   "execution_count": 365,
   "metadata": {},
   "outputs": [
    {
     "data": {
      "text/plain": [
       "0.9713823241629701"
      ]
     },
     "execution_count": 365,
     "metadata": {},
     "output_type": "execute_result"
    }
   ],
   "source": [
    "# MSE for the testing set:\n",
    "mse(predictionsTest, y_test)"
   ]
  },
  {
   "cell_type": "markdown",
   "metadata": {},
   "source": [
    "It is important to note that we can still get a R^2 of 1 (MSE of 0) if we throw in enough random features! That is why we must use data that wasnt used on the model (test data) to get a more accurate representation of the R^2. "
   ]
  },
  {
   "cell_type": "markdown",
   "metadata": {},
   "source": [
    "#### 6. (CSE158 only) Using the test set from Question 5, report the Mean Absolute Error (MAE) and R2\n",
    "coefficient for your predictor (on the test set) (1 mark)."
   ]
  },
  {
   "cell_type": "code",
   "execution_count": 366,
   "metadata": {},
   "outputs": [],
   "source": [
    "def mae(Y_pred, Y_true):\n",
    "    \"\"\" Mean Absolute Error \"\"\"\n",
    "    return np.mean(np.abs(np.subtract(Y_true, Y_pred)))"
   ]
  },
  {
   "cell_type": "code",
   "execution_count": 367,
   "metadata": {},
   "outputs": [
    {
     "data": {
      "text/plain": [
       "0.6228362918842943"
      ]
     },
     "execution_count": 367,
     "metadata": {},
     "output_type": "execute_result"
    }
   ],
   "source": [
    "# Mean Absolute Error:\n",
    "mae(predictionsTest, y_test)"
   ]
  },
  {
   "cell_type": "markdown",
   "metadata": {},
   "source": [
    "The Mean Absolute Error (MAE) is proportional to the varience of the data. This means than an 'acceptable' number for MSE depends on the varience. Therefore, it is helpful to look at the R^2 value.\n",
    "* If R^2 = 0, the model is a trivial predictor\n",
    "* If R^2 = 1, the model is a perfect predictor"
   ]
  },
  {
   "cell_type": "code",
   "execution_count": 368,
   "metadata": {},
   "outputs": [
    {
     "data": {
      "text/plain": [
       "-0.049088114308448505"
      ]
     },
     "execution_count": 368,
     "metadata": {},
     "output_type": "execute_result"
    }
   ],
   "source": [
    "from sklearn.metrics import r2_score\n",
    "# R^2 value:\n",
    "r2_score(y_test, predictionsTest)"
   ]
  },
  {
   "cell_type": "markdown",
   "metadata": {},
   "source": [
    "### Classification - Week 2\n",
    "\n",
    "In this question we’ll alter the prediction from our regression task, so that we are now classifying whether a\n",
    "review is verified. Continue using the 90%/10% training and test sets you constructed previously, i.e., train on\n",
    "the training set and report the error/accuracy on the testing set."
   ]
  },
  {
   "cell_type": "markdown",
   "metadata": {},
   "source": [
    "#### 8. First, let’s train a predictor that estimates whether a review is verified using the rating and the length:\n",
    " <img src=\"fig3.png\" style=\"height:50px\"> \n",
    "\n",
    "Train a logistic regressor to make the above prediction (you may use a logistic regression library with de-\n",
    "fault parameters, e.g. linear model.LogisticRegression() from sklearn). "
   ]
  },
  {
   "cell_type": "code",
   "execution_count": 369,
   "metadata": {},
   "outputs": [],
   "source": [
    "X_4 = df[['star_rating', 'review_length']]\n",
    "y_4 = df['verified_purchase']\n",
    "\n",
    "N = len(X_4)\n",
    "n_percent = int(np.around(N*.9))\n",
    "X_train = X_4[:n_percent]\n",
    "X_test = X_4[n_percent:]\n",
    "y_train = y_4[:n_percent]\n",
    "y_test = y_4[n_percent:]"
   ]
  },
  {
   "cell_type": "code",
   "execution_count": 370,
   "metadata": {},
   "outputs": [],
   "source": [
    "from sklearn.linear_model import LogisticRegression\n",
    "\n",
    "mod = LogisticRegression(C=1.0)\n",
    "mod.fit(X_train, y_train);"
   ]
  },
  {
   "cell_type": "markdown",
   "metadata": {},
   "source": [
    "Report the classification accuracy of this predictor. "
   ]
  },
  {
   "cell_type": "code",
   "execution_count": 371,
   "metadata": {},
   "outputs": [],
   "source": [
    "# Calculate Predictions\n",
    "train_pred = mod.predict(X_train)\n",
    "test_pred = mod.predict(X_test)"
   ]
  },
  {
   "cell_type": "code",
   "execution_count": 372,
   "metadata": {},
   "outputs": [
    {
     "data": {
      "text/plain": [
       "0.9516161488183519"
      ]
     },
     "execution_count": 372,
     "metadata": {},
     "output_type": "execute_result"
    }
   ],
   "source": [
    "# Classification accuracy on training set:\n",
    "train_accuracy = np.sum(y_train == train_pred) / len(train_pred)\n",
    "train_accuracy"
   ]
  },
  {
   "cell_type": "code",
   "execution_count": 373,
   "metadata": {},
   "outputs": [
    {
     "data": {
      "text/plain": [
       "0.5589241397813401"
      ]
     },
     "execution_count": 373,
     "metadata": {},
     "output_type": "execute_result"
    }
   ],
   "source": [
    "# Classification accuracy on testing set:\n",
    "test_accuracy = np.sum(y_test == test_pred) / len(test_pred)\n",
    "test_accuracy"
   ]
  },
  {
   "cell_type": "markdown",
   "metadata": {},
   "source": [
    "Report also the proportion of labels that are positive (i.e., the proportion of reviews\n",
    "that are verified) and the proportion of predictions that are positive (1 mark)."
   ]
  },
  {
   "cell_type": "code",
   "execution_count": 374,
   "metadata": {},
   "outputs": [
    {
     "data": {
      "text/plain": [
       "0.9518248283983097"
      ]
     },
     "execution_count": 374,
     "metadata": {},
     "output_type": "execute_result"
    }
   ],
   "source": [
    "# Proportion of positive labels for training set (actual): \n",
    "np.sum(y_train) / len(y_train)"
   ]
  },
  {
   "cell_type": "code",
   "execution_count": 375,
   "metadata": {},
   "outputs": [
    {
     "data": {
      "text/plain": [
       "0.9996571692614978"
      ]
     },
     "execution_count": 375,
     "metadata": {},
     "output_type": "execute_result"
    }
   ],
   "source": [
    "# Proportion of positive labels for training set (prediction):\n",
    "np.sum(train_pred) / len(train_pred)"
   ]
  },
  {
   "cell_type": "markdown",
   "metadata": {},
   "source": [
    "What does this mean? This tells us that the proportion of positive labels in our training set is high, but our predictions are almost 100% positive labels. Since our training set is ~91% positive labels, our predictions would be incorrect ~10% of the time. This is a decent predictor for the training set but, we do not know for sure if our training set is a good representation of the actual population."
   ]
  },
  {
   "cell_type": "code",
   "execution_count": 376,
   "metadata": {},
   "outputs": [
    {
     "data": {
      "text/plain": [
       "0.5586558454624724"
      ]
     },
     "execution_count": 376,
     "metadata": {},
     "output_type": "execute_result"
    }
   ],
   "source": [
    "# Proportion of positive labels for testing set (actual):\n",
    "np.sum(y_test) / len(y_test)"
   ]
  },
  {
   "cell_type": "code",
   "execution_count": 377,
   "metadata": {},
   "outputs": [
    {
     "data": {
      "text/plain": [
       "0.9990609698839628"
      ]
     },
     "execution_count": 377,
     "metadata": {},
     "output_type": "execute_result"
    }
   ],
   "source": [
    "# Proportion of positive labels for testing set (prediction):\n",
    "np.sum(test_pred) / len(test_pred)"
   ]
  },
  {
   "cell_type": "markdown",
   "metadata": {},
   "source": [
    "What does this mean? This tells us that the proportion of positive labels in our testing set is high, but our predictions are almost 100% positive labels. We also know, looking at the proportion of positive labels in our testing set, that the data was split well. However, since our training set is ~91% positive labels, our predictions would be incorrect ~10% of the time. This is a decent predictor for the testing set but, we do not know for sure if our testing set is a good representation of the actual population."
   ]
  },
  {
   "cell_type": "markdown",
   "metadata": {},
   "source": [
    "#### 9. Considering same prediction problem as above, can you come up with a more accurate predictor (e.g. using\n",
    "features from the text, timestamp, etc.)? Write down the feature vector you design, and report its\n",
    "train/test accuracy (1 mark)."
   ]
  },
  {
   "cell_type": "markdown",
   "metadata": {},
   "source": [
    "Lets try to find another predictor that estimates whether a review is verified using other features. Lets take a closer look at the dataset:"
   ]
  },
  {
   "cell_type": "code",
   "execution_count": 378,
   "metadata": {},
   "outputs": [
    {
     "data": {
      "text/html": [
       "<div>\n",
       "<style scoped>\n",
       "    .dataframe tbody tr th:only-of-type {\n",
       "        vertical-align: middle;\n",
       "    }\n",
       "\n",
       "    .dataframe tbody tr th {\n",
       "        vertical-align: top;\n",
       "    }\n",
       "\n",
       "    .dataframe thead th {\n",
       "        text-align: right;\n",
       "    }\n",
       "</style>\n",
       "<table border=\"1\" class=\"dataframe\">\n",
       "  <thead>\n",
       "    <tr style=\"text-align: right;\">\n",
       "      <th></th>\n",
       "      <th>customer_id</th>\n",
       "      <th>helpful_votes</th>\n",
       "      <th>marketplace</th>\n",
       "      <th>product_category</th>\n",
       "      <th>product_id</th>\n",
       "      <th>product_parent</th>\n",
       "      <th>product_title</th>\n",
       "      <th>review_body</th>\n",
       "      <th>review_date</th>\n",
       "      <th>review_headline</th>\n",
       "      <th>review_id</th>\n",
       "      <th>star_rating</th>\n",
       "      <th>total_votes</th>\n",
       "      <th>vine</th>\n",
       "      <th>review_length</th>\n",
       "    </tr>\n",
       "  </thead>\n",
       "  <tbody>\n",
       "    <tr>\n",
       "      <th>0</th>\n",
       "      <td>24371595</td>\n",
       "      <td>0</td>\n",
       "      <td>US</td>\n",
       "      <td>Gift Card</td>\n",
       "      <td>B004LLIL5A</td>\n",
       "      <td>346014806</td>\n",
       "      <td>Amazon eGift Card - Celebrate</td>\n",
       "      <td>Great birthday gift for a young adult.</td>\n",
       "      <td>2015-08-31\\n</td>\n",
       "      <td>Five Stars</td>\n",
       "      <td>R27ZP1F1CD0C3Y</td>\n",
       "      <td>5</td>\n",
       "      <td>0</td>\n",
       "      <td>N</td>\n",
       "      <td>38</td>\n",
       "    </tr>\n",
       "    <tr>\n",
       "      <th>1</th>\n",
       "      <td>42489718</td>\n",
       "      <td>0</td>\n",
       "      <td>US</td>\n",
       "      <td>Gift Card</td>\n",
       "      <td>B004LLIKVU</td>\n",
       "      <td>473048287</td>\n",
       "      <td>Amazon.com eGift Cards</td>\n",
       "      <td>It's an Amazon gift card and with over 9823983...</td>\n",
       "      <td>2015-08-31\\n</td>\n",
       "      <td>Gift card for the greatest selection of items ...</td>\n",
       "      <td>RJ7RSBCHUDNNE</td>\n",
       "      <td>5</td>\n",
       "      <td>0</td>\n",
       "      <td>N</td>\n",
       "      <td>101</td>\n",
       "    </tr>\n",
       "    <tr>\n",
       "      <th>2</th>\n",
       "      <td>861463</td>\n",
       "      <td>0</td>\n",
       "      <td>US</td>\n",
       "      <td>Gift Card</td>\n",
       "      <td>B00IX1I3G6</td>\n",
       "      <td>926539283</td>\n",
       "      <td>Amazon.com Gift Card Balance Reload</td>\n",
       "      <td>Good</td>\n",
       "      <td>2015-08-31\\n</td>\n",
       "      <td>Five Stars</td>\n",
       "      <td>R1HVYBSKLQJI5S</td>\n",
       "      <td>5</td>\n",
       "      <td>0</td>\n",
       "      <td>N</td>\n",
       "      <td>4</td>\n",
       "    </tr>\n",
       "  </tbody>\n",
       "</table>\n",
       "</div>"
      ],
      "text/plain": [
       "  customer_id  helpful_votes marketplace product_category  product_id  \\\n",
       "0    24371595              0          US        Gift Card  B004LLIL5A   \n",
       "1    42489718              0          US        Gift Card  B004LLIKVU   \n",
       "2      861463              0          US        Gift Card  B00IX1I3G6   \n",
       "\n",
       "  product_parent                        product_title  \\\n",
       "0      346014806        Amazon eGift Card - Celebrate   \n",
       "1      473048287               Amazon.com eGift Cards   \n",
       "2      926539283  Amazon.com Gift Card Balance Reload   \n",
       "\n",
       "                                         review_body   review_date  \\\n",
       "0             Great birthday gift for a young adult.  2015-08-31\\n   \n",
       "1  It's an Amazon gift card and with over 9823983...  2015-08-31\\n   \n",
       "2                                               Good  2015-08-31\\n   \n",
       "\n",
       "                                     review_headline       review_id  \\\n",
       "0                                         Five Stars  R27ZP1F1CD0C3Y   \n",
       "1  Gift card for the greatest selection of items ...   RJ7RSBCHUDNNE   \n",
       "2                                         Five Stars  R1HVYBSKLQJI5S   \n",
       "\n",
       "   star_rating  total_votes vine  review_length  \n",
       "0            5            0    N             38  \n",
       "1            5            0    N            101  \n",
       "2            5            0    N              4  "
      ]
     },
     "execution_count": 378,
     "metadata": {},
     "output_type": "execute_result"
    }
   ],
   "source": [
    "features = df.loc[:, df.columns != 'verified_purchase']\n",
    "features.head(3)"
   ]
  },
  {
   "cell_type": "markdown",
   "metadata": {},
   "source": [
    "Then I check out the distributions of some of the columns I think will make useful predictors"
   ]
  },
  {
   "cell_type": "code",
   "execution_count": 379,
   "metadata": {},
   "outputs": [
    {
     "data": {
      "text/plain": [
       "US    149086\n",
       "Name: marketplace, dtype: int64"
      ]
     },
     "execution_count": 379,
     "metadata": {},
     "output_type": "execute_result"
    }
   ],
   "source": [
    "features['marketplace'].value_counts()"
   ]
  },
  {
   "cell_type": "code",
   "execution_count": 380,
   "metadata": {},
   "outputs": [
    {
     "data": {
      "text/plain": [
       "Gift Card    149086\n",
       "Name: product_category, dtype: int64"
      ]
     },
     "execution_count": 380,
     "metadata": {},
     "output_type": "execute_result"
    }
   ],
   "source": [
    "features['product_category'].value_counts()"
   ]
  },
  {
   "cell_type": "code",
   "execution_count": 381,
   "metadata": {},
   "outputs": [
    {
     "data": {
      "text/plain": [
       "5    129709\n",
       "4      9859\n",
       "1      4793\n",
       "3      3156\n",
       "2      1569\n",
       "Name: star_rating, dtype: int64"
      ]
     },
     "execution_count": 381,
     "metadata": {},
     "output_type": "execute_result"
    }
   ],
   "source": [
    "features['star_rating'].value_counts()"
   ]
  },
  {
   "cell_type": "code",
   "execution_count": 382,
   "metadata": {},
   "outputs": [
    {
     "data": {
      "text/plain": [
       "N    149086\n",
       "Name: vine, dtype: int64"
      ]
     },
     "execution_count": 382,
     "metadata": {},
     "output_type": "execute_result"
    }
   ],
   "source": [
    "features['vine'].value_counts()"
   ]
  },
  {
   "cell_type": "markdown",
   "metadata": {},
   "source": [
    "What has this told me? Features like marketplace, product category, and vine only actually have one value, so they are not very useful features."
   ]
  },
  {
   "cell_type": "markdown",
   "metadata": {},
   "source": [
    "If I wanted to use the 'review_date' as a feature, I need to convert it to a more useful for, in this case:"
   ]
  },
  {
   "cell_type": "code",
   "execution_count": 383,
   "metadata": {},
   "outputs": [],
   "source": [
    "# feature engineering"
   ]
  },
  {
   "cell_type": "code",
   "execution_count": 384,
   "metadata": {},
   "outputs": [],
   "source": [
    "df['is_helpful'] = df['helpful_votes'] > 0"
   ]
  },
  {
   "cell_type": "markdown",
   "metadata": {},
   "source": [
    "### Final feature vector design: ['star_rating', 'review_length', 'is_helpful']"
   ]
  },
  {
   "cell_type": "code",
   "execution_count": 385,
   "metadata": {},
   "outputs": [],
   "source": [
    "X_final = df[['star_rating', 'review_length', 'is_helpful']]\n",
    "y_final = df['verified_purchase']\n",
    "\n",
    "N = len(X_final)\n",
    "n_percent = int(np.around(N*.9))\n",
    "X_train = X_final[:n_percent]\n",
    "X_test = X_final[n_percent:]\n",
    "y_train = y_final[:n_percent]\n",
    "y_test = y_final[n_percent:]"
   ]
  },
  {
   "cell_type": "code",
   "execution_count": 386,
   "metadata": {},
   "outputs": [],
   "source": [
    "mod_2 = LogisticRegression(C=1.0)\n",
    "mod_2.fit(X_train, y_train);"
   ]
  },
  {
   "cell_type": "code",
   "execution_count": 387,
   "metadata": {},
   "outputs": [],
   "source": [
    "# Calculate Predictions\n",
    "train_pred = mod_2.predict(X_train)\n",
    "test_pred = mod_2.predict(X_test)"
   ]
  },
  {
   "cell_type": "code",
   "execution_count": 388,
   "metadata": {},
   "outputs": [
    {
     "data": {
      "text/plain": [
       "0.9516012431340691"
      ]
     },
     "execution_count": 388,
     "metadata": {},
     "output_type": "execute_result"
    }
   ],
   "source": [
    "# Classification accuracy on training set:\n",
    "train_accuracy_final = np.sum(y_train == train_pred) / len(train_pred)\n",
    "train_accuracy_final"
   ]
  },
  {
   "cell_type": "code",
   "execution_count": 389,
   "metadata": {},
   "outputs": [
    {
     "data": {
      "text/plain": [
       "False"
      ]
     },
     "execution_count": 389,
     "metadata": {},
     "output_type": "execute_result"
    }
   ],
   "source": [
    "train_accuracy_final > train_accuracy"
   ]
  },
  {
   "cell_type": "code",
   "execution_count": 390,
   "metadata": {},
   "outputs": [
    {
     "data": {
      "text/plain": [
       "0.559125360520491"
      ]
     },
     "execution_count": 390,
     "metadata": {},
     "output_type": "execute_result"
    }
   ],
   "source": [
    "# Classification accuracy on testing set:\n",
    "test_accuracy_final = np.sum(y_test == test_pred) / len(test_pred)\n",
    "test_accuracy_final"
   ]
  },
  {
   "cell_type": "code",
   "execution_count": 391,
   "metadata": {},
   "outputs": [
    {
     "name": "stdout",
     "output_type": "stream",
     "text": [
      "0.559125360520491\n",
      "0.5589241397813401\n"
     ]
    }
   ],
   "source": [
    "print(test_accuracy_final)\n",
    "print(test_accuracy)"
   ]
  },
  {
   "cell_type": "code",
   "execution_count": 392,
   "metadata": {},
   "outputs": [
    {
     "data": {
      "text/plain": [
       "True"
      ]
     },
     "execution_count": 392,
     "metadata": {},
     "output_type": "execute_result"
    }
   ],
   "source": [
    "test_accuracy_final > test_accuracy"
   ]
  },
  {
   "cell_type": "markdown",
   "metadata": {},
   "source": [
    "Woohoo! Testing accuracy has improved!"
   ]
  },
  {
   "cell_type": "markdown",
   "metadata": {},
   "source": [
    "### Final Thoughts"
   ]
  },
  {
   "cell_type": "markdown",
   "metadata": {},
   "source": [
    "Just out of curiousity, lets check distribution of labels:"
   ]
  },
  {
   "cell_type": "code",
   "execution_count": 393,
   "metadata": {},
   "outputs": [
    {
     "data": {
      "text/plain": [
       "0.9518248283983097"
      ]
     },
     "execution_count": 393,
     "metadata": {},
     "output_type": "execute_result"
    }
   ],
   "source": [
    "# Proportion of positive labels for training set (actual):\n",
    "np.sum(y_train) / len(y_train)"
   ]
  },
  {
   "cell_type": "code",
   "execution_count": 394,
   "metadata": {},
   "outputs": [
    {
     "data": {
      "text/plain": [
       "0.9996571692614978"
      ]
     },
     "execution_count": 394,
     "metadata": {},
     "output_type": "execute_result"
    }
   ],
   "source": [
    "# Proportion of positive labels for training set (prediction):\n",
    "np.sum(train_pred) / len(train_pred)"
   ]
  },
  {
   "cell_type": "code",
   "execution_count": 395,
   "metadata": {},
   "outputs": [
    {
     "data": {
      "text/plain": [
       "0.5586558454624724"
      ]
     },
     "execution_count": 395,
     "metadata": {},
     "output_type": "execute_result"
    }
   ],
   "source": [
    "# Proportion of positive labels for testing set (actual):\n",
    "np.sum(y_test) / len(y_test)"
   ]
  },
  {
   "cell_type": "code",
   "execution_count": 396,
   "metadata": {},
   "outputs": [
    {
     "data": {
      "text/plain": [
       "0.9991280434636797"
      ]
     },
     "execution_count": 396,
     "metadata": {},
     "output_type": "execute_result"
    }
   ],
   "source": [
    "# Proportion of positive labels for testing set (prediction):\n",
    "np.sum(test_pred) / len(test_pred)"
   ]
  },
  {
   "cell_type": "markdown",
   "metadata": {},
   "source": [
    "What does this tell us?\n",
    "These proportions are similiar to the proportions on the previous model we designed. This is expected since the accuracy did improve, but not by that much. This also leads me to suspect that the predictor will not perform this well on unseen data, since the classes (or values of 'verified_purchase') in the training data is almost entirely positive, unless this is an accurate represent the actual population (this does not seem to be the case since the actual labels in the testing data are only ~55% positive). How can we improve this? Maybe try shuffling the data instead of just picking the first 90% for training. Maybe train on less data (e.g. increasing testing data to 20%). Or maybe try running the LogisticRegression() model with the classes 'balanced'. Or better yet, if it was possible, get more data!"
   ]
  }
 ],
 "metadata": {
  "kernelspec": {
   "display_name": "Python 3",
   "language": "python",
   "name": "python3"
  },
  "language_info": {
   "codemirror_mode": {
    "name": "ipython",
    "version": 3
   },
   "file_extension": ".py",
   "mimetype": "text/x-python",
   "name": "python",
   "nbconvert_exporter": "python",
   "pygments_lexer": "ipython3",
   "version": "3.7.3"
  }
 },
 "nbformat": 4,
 "nbformat_minor": 2
}
